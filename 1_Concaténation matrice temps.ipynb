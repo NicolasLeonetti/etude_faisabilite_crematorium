{
 "cells": [
  {
   "cell_type": "markdown",
   "source": [
    "# Concaténation des matrices temps"
   ],
   "metadata": {
    "collapsed": false
   },
   "id": "4c6661c869ecb97"
  },
  {
   "cell_type": "code",
   "execution_count": 1,
   "outputs": [
    {
     "name": "stderr",
     "output_type": "stream",
     "text": [
      "C:\\Users\\Nicolas et Maëva\\.conda\\envs\\Workspace\\lib\\site-packages\\numpy\\_distributor_init.py:30: UserWarning: loaded more than 1 DLL from .libs:\n",
      "C:\\Users\\Nicolas et Maëva\\.conda\\envs\\Workspace\\lib\\site-packages\\numpy\\.libs\\libopenblas.FB5AE2TYXYH2IJRDKGDGQ3XBKLKTF43H.gfortran-win_amd64.dll\n",
      "C:\\Users\\Nicolas et Maëva\\.conda\\envs\\Workspace\\lib\\site-packages\\numpy\\.libs\\libopenblas64__v0.3.23-gcc_10_3_0.dll\n",
      "  warnings.warn(\"loaded more than 1 DLL from .libs:\"\n"
     ]
    }
   ],
   "source": [
    "import pandas as pd\n",
    "import warnings\n",
    "warnings.filterwarnings('ignore')\n",
    "\n",
    "df1 = pd.read_csv(r'C:\\Users\\Nicolas et Maëva\\Desktop\\Projets DataSpell\\DataBird\\Projet_final\\matrice_temps_2')\n",
    "df2 = pd.read_csv(r'C:\\Users\\Nicolas et Maëva\\Desktop\\Projets DataSpell\\DataBird\\Projet_final\\matrice_temps_3')"
   ],
   "metadata": {
    "collapsed": false,
    "ExecuteTime": {
     "end_time": "2023-10-02T09:14:09.895482200Z",
     "start_time": "2023-10-02T09:14:01.139803200Z"
    }
   },
   "id": "72490cd5cc76f0a3"
  },
  {
   "cell_type": "code",
   "execution_count": 2,
   "outputs": [],
   "source": [
    "rows_verif = df1.shape[0] + df2.shape[0]\n",
    "df_final = pd.concat([df1, df2])\n",
    "df_final.shape[0] == rows_verif"
   ],
   "metadata": {
    "collapsed": false,
    "ExecuteTime": {
     "end_time": "2023-10-02T09:14:09.910483300Z",
     "start_time": "2023-10-02T09:14:09.897482700Z"
    }
   },
   "id": "3d801d0143158b0e"
  },
  {
   "cell_type": "code",
   "execution_count": 5,
   "outputs": [],
   "source": [
    "df_final.drop_duplicates(inplace=True)\n",
    "df_final.shape[0]"
   ],
   "metadata": {
    "collapsed": false,
    "ExecuteTime": {
     "end_time": "2023-10-02T09:14:20.467713900Z",
     "start_time": "2023-10-02T09:14:10.307797800Z"
    }
   },
   "id": "a2104ec34f664622"
  },
  {
   "cell_type": "code",
   "execution_count": 7,
   "outputs": [],
   "source": [
    "df_final.to_csv(r'matrice_temps_complete.csv')"
   ],
   "metadata": {
    "collapsed": false,
    "ExecuteTime": {
     "end_time": "2023-10-02T09:15:53.294222700Z",
     "start_time": "2023-10-02T09:14:20.483714100Z"
    }
   },
   "id": "4fa027ed6fbd12a8"
  }
 ],
 "metadata": {
  "kernelspec": {
   "display_name": "Python 3",
   "language": "python",
   "name": "python3"
  },
  "language_info": {
   "codemirror_mode": {
    "name": "ipython",
    "version": 2
   },
   "file_extension": ".py",
   "mimetype": "text/x-python",
   "name": "python",
   "nbconvert_exporter": "python",
   "pygments_lexer": "ipython2",
   "version": "2.7.6"
  }
 },
 "nbformat": 4,
 "nbformat_minor": 5
}
