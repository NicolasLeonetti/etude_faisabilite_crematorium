{
 "cells": [
  {
   "cell_type": "markdown",
   "source": [
    "## Création de fichiers de référence pour le nombre de décès et de crémations moyen sur une année, le nombre d'habitants, avec les niveaux de granularité suivants : région, département, commune, ainsi que la présence d'un crématoire"
   ],
   "metadata": {
    "collapsed": false
   },
   "id": "fb0c633056cd01bc"
  },
  {
   "cell_type": "code",
   "execution_count": 1,
   "outputs": [],
   "source": [
    "import warnings\n",
    "warnings.filterwarnings(\"ignore\")"
   ],
   "metadata": {
    "collapsed": false,
    "ExecuteTime": {
     "end_time": "2023-09-27T12:10:16.263078400Z",
     "start_time": "2023-09-27T12:10:16.252078100Z"
    }
   },
   "id": "a62054b0db5b39c9"
  },
  {
   "cell_type": "markdown",
   "source": [
    "### On importe le package pandas :"
   ],
   "metadata": {
    "collapsed": false
   },
   "id": "9f1a58d6cc59b2c0"
  },
  {
   "cell_type": "code",
   "execution_count": 2,
   "outputs": [],
   "source": [
    "import pandas as pd"
   ],
   "metadata": {
    "collapsed": false,
    "ExecuteTime": {
     "end_time": "2023-09-27T12:10:16.740079200Z",
     "start_time": "2023-09-27T12:10:16.264078Z"
    }
   },
   "id": "initial_id"
  },
  {
   "cell_type": "markdown",
   "source": [
    "## Table de référence INSEE et table des décès"
   ],
   "metadata": {
    "collapsed": false
   },
   "id": "92104976386ee62b"
  },
  {
   "cell_type": "markdown",
   "source": [
    "### On charge la table de référence géographique INSEE :"
   ],
   "metadata": {
    "collapsed": false
   },
   "id": "238c51c5a70abc92"
  },
  {
   "cell_type": "code",
   "execution_count": 3,
   "outputs": [
    {
     "data": {
      "text/plain": "      CODGEO                   LIBGEO  DEP  REG       EPCI NATURE_EPCI   ARR  \\\n0      01001  L'Abergement-Clémenciat   01   84  200069193          CC   012   \n1      01002    L'Abergement-de-Varey   01   84  240100883          CC   011   \n2      01004        Ambérieu-en-Bugey   01   84  240100883          CC   011   \n3      01005      Ambérieux-en-Dombes   01   84  200042497          CC   012   \n4      01006                  Ambléon   01   84  200040350          CC   011   \n...      ...                      ...  ...  ...        ...         ...   ...   \n34940  97613            M'Tsangamouji  976    6  200059871          CC  ZZZZ   \n34941  97614                 Ouangani  976    6  200059871          CC  ZZZZ   \n34942  97615                 Pamandzi  976    6  200050532          CC  ZZZZ   \n34943  97616                     Sada  976    6  200059871          CC  ZZZZ   \n34944  97617                 Tsingoni  976    6  200059871          CC  ZZZZ   \n\n          CV  ZE2020 UU2020  TUU2017  TDUU2017 AAV2020  TAAV2017  TDAAV2017  \\\n0       0108    8405  01000        0         0     524         1         11   \n1       0101    8405  01000        0         0     000         0          0   \n2       0101    8405  01303        3        32     243         1         14   \n3       0122    8434  01000        0         0     002         4         42   \n4       0104    8404  01000        0         0     286         1         13   \n...      ...     ...    ...      ...       ...     ...       ...        ...   \n34940  97613     601  9F204        2        21     9F1         3         31   \n34941  97610     601  9F301        3        31     9F1         3         31   \n34942  97611     601  9F401        4        42     9F1         3         31   \n34943  97612     601  9F303        3        31     9F1         3         31   \n34944  97613     601  9F304        3        31     9F1         3         31   \n\n       CATEAAV2020 BV2022  \n0               20  01093  \n1               30  01004  \n2               11  01004  \n3               20  01333  \n4               20  01034  \n...            ...    ...  \n34940           20  97611  \n34941           20  97611  \n34942           20  97608  \n34943           20  97611  \n34944           20  97611  \n\n[34945 rows x 17 columns]",
      "text/html": "<div>\n<style scoped>\n    .dataframe tbody tr th:only-of-type {\n        vertical-align: middle;\n    }\n\n    .dataframe tbody tr th {\n        vertical-align: top;\n    }\n\n    .dataframe thead th {\n        text-align: right;\n    }\n</style>\n<table border=\"1\" class=\"dataframe\">\n  <thead>\n    <tr style=\"text-align: right;\">\n      <th></th>\n      <th>CODGEO</th>\n      <th>LIBGEO</th>\n      <th>DEP</th>\n      <th>REG</th>\n      <th>EPCI</th>\n      <th>NATURE_EPCI</th>\n      <th>ARR</th>\n      <th>CV</th>\n      <th>ZE2020</th>\n      <th>UU2020</th>\n      <th>TUU2017</th>\n      <th>TDUU2017</th>\n      <th>AAV2020</th>\n      <th>TAAV2017</th>\n      <th>TDAAV2017</th>\n      <th>CATEAAV2020</th>\n      <th>BV2022</th>\n    </tr>\n  </thead>\n  <tbody>\n    <tr>\n      <th>0</th>\n      <td>01001</td>\n      <td>L'Abergement-Clémenciat</td>\n      <td>01</td>\n      <td>84</td>\n      <td>200069193</td>\n      <td>CC</td>\n      <td>012</td>\n      <td>0108</td>\n      <td>8405</td>\n      <td>01000</td>\n      <td>0</td>\n      <td>0</td>\n      <td>524</td>\n      <td>1</td>\n      <td>11</td>\n      <td>20</td>\n      <td>01093</td>\n    </tr>\n    <tr>\n      <th>1</th>\n      <td>01002</td>\n      <td>L'Abergement-de-Varey</td>\n      <td>01</td>\n      <td>84</td>\n      <td>240100883</td>\n      <td>CC</td>\n      <td>011</td>\n      <td>0101</td>\n      <td>8405</td>\n      <td>01000</td>\n      <td>0</td>\n      <td>0</td>\n      <td>000</td>\n      <td>0</td>\n      <td>0</td>\n      <td>30</td>\n      <td>01004</td>\n    </tr>\n    <tr>\n      <th>2</th>\n      <td>01004</td>\n      <td>Ambérieu-en-Bugey</td>\n      <td>01</td>\n      <td>84</td>\n      <td>240100883</td>\n      <td>CC</td>\n      <td>011</td>\n      <td>0101</td>\n      <td>8405</td>\n      <td>01303</td>\n      <td>3</td>\n      <td>32</td>\n      <td>243</td>\n      <td>1</td>\n      <td>14</td>\n      <td>11</td>\n      <td>01004</td>\n    </tr>\n    <tr>\n      <th>3</th>\n      <td>01005</td>\n      <td>Ambérieux-en-Dombes</td>\n      <td>01</td>\n      <td>84</td>\n      <td>200042497</td>\n      <td>CC</td>\n      <td>012</td>\n      <td>0122</td>\n      <td>8434</td>\n      <td>01000</td>\n      <td>0</td>\n      <td>0</td>\n      <td>002</td>\n      <td>4</td>\n      <td>42</td>\n      <td>20</td>\n      <td>01333</td>\n    </tr>\n    <tr>\n      <th>4</th>\n      <td>01006</td>\n      <td>Ambléon</td>\n      <td>01</td>\n      <td>84</td>\n      <td>200040350</td>\n      <td>CC</td>\n      <td>011</td>\n      <td>0104</td>\n      <td>8404</td>\n      <td>01000</td>\n      <td>0</td>\n      <td>0</td>\n      <td>286</td>\n      <td>1</td>\n      <td>13</td>\n      <td>20</td>\n      <td>01034</td>\n    </tr>\n    <tr>\n      <th>...</th>\n      <td>...</td>\n      <td>...</td>\n      <td>...</td>\n      <td>...</td>\n      <td>...</td>\n      <td>...</td>\n      <td>...</td>\n      <td>...</td>\n      <td>...</td>\n      <td>...</td>\n      <td>...</td>\n      <td>...</td>\n      <td>...</td>\n      <td>...</td>\n      <td>...</td>\n      <td>...</td>\n      <td>...</td>\n    </tr>\n    <tr>\n      <th>34940</th>\n      <td>97613</td>\n      <td>M'Tsangamouji</td>\n      <td>976</td>\n      <td>6</td>\n      <td>200059871</td>\n      <td>CC</td>\n      <td>ZZZZ</td>\n      <td>97613</td>\n      <td>601</td>\n      <td>9F204</td>\n      <td>2</td>\n      <td>21</td>\n      <td>9F1</td>\n      <td>3</td>\n      <td>31</td>\n      <td>20</td>\n      <td>97611</td>\n    </tr>\n    <tr>\n      <th>34941</th>\n      <td>97614</td>\n      <td>Ouangani</td>\n      <td>976</td>\n      <td>6</td>\n      <td>200059871</td>\n      <td>CC</td>\n      <td>ZZZZ</td>\n      <td>97610</td>\n      <td>601</td>\n      <td>9F301</td>\n      <td>3</td>\n      <td>31</td>\n      <td>9F1</td>\n      <td>3</td>\n      <td>31</td>\n      <td>20</td>\n      <td>97611</td>\n    </tr>\n    <tr>\n      <th>34942</th>\n      <td>97615</td>\n      <td>Pamandzi</td>\n      <td>976</td>\n      <td>6</td>\n      <td>200050532</td>\n      <td>CC</td>\n      <td>ZZZZ</td>\n      <td>97611</td>\n      <td>601</td>\n      <td>9F401</td>\n      <td>4</td>\n      <td>42</td>\n      <td>9F1</td>\n      <td>3</td>\n      <td>31</td>\n      <td>20</td>\n      <td>97608</td>\n    </tr>\n    <tr>\n      <th>34943</th>\n      <td>97616</td>\n      <td>Sada</td>\n      <td>976</td>\n      <td>6</td>\n      <td>200059871</td>\n      <td>CC</td>\n      <td>ZZZZ</td>\n      <td>97612</td>\n      <td>601</td>\n      <td>9F303</td>\n      <td>3</td>\n      <td>31</td>\n      <td>9F1</td>\n      <td>3</td>\n      <td>31</td>\n      <td>20</td>\n      <td>97611</td>\n    </tr>\n    <tr>\n      <th>34944</th>\n      <td>97617</td>\n      <td>Tsingoni</td>\n      <td>976</td>\n      <td>6</td>\n      <td>200059871</td>\n      <td>CC</td>\n      <td>ZZZZ</td>\n      <td>97613</td>\n      <td>601</td>\n      <td>9F304</td>\n      <td>3</td>\n      <td>31</td>\n      <td>9F1</td>\n      <td>3</td>\n      <td>31</td>\n      <td>20</td>\n      <td>97611</td>\n    </tr>\n  </tbody>\n</table>\n<p>34945 rows × 17 columns</p>\n</div>"
     },
     "execution_count": 3,
     "metadata": {},
     "output_type": "execute_result"
    }
   ],
   "source": [
    "table_insee = pd.read_csv(r'C:\\Users\\Nicolas et Maëva\\Desktop\\Projets DataSpell\\DataBird\\Projet_final\\table-appartenance-geo-communes-23-nettoyé.csv')\n",
    "\n",
    "table_insee"
   ],
   "metadata": {
    "collapsed": false,
    "ExecuteTime": {
     "end_time": "2023-09-27T12:10:16.852079400Z",
     "start_time": "2023-09-27T12:10:16.741080500Z"
    }
   },
   "id": "53d91cd95495cd7a"
  },
  {
   "cell_type": "markdown",
   "source": [
    "### On charge la table INSEE répertoriant tous les décès 2022-2023 :"
   ],
   "metadata": {
    "collapsed": false
   },
   "id": "7f7d9cc4e45d6e4c"
  },
  {
   "cell_type": "code",
   "execution_count": 4,
   "outputs": [
    {
     "data": {
      "text/plain": "         ADEC  MDEC  JDEC DEPDEC COMDEC  ANAIS  MNAIS  JNAIS SEXE COMDOM  \\\n0        2022     1     1     01  01004   1927   10.0   29.0    F  01384   \n1        2022     1     1     01  01004   1947    8.0   31.0    F  01041   \n2        2022     1     1     01  01032   1929    1.0    5.0    F  01151   \n3        2022     1     1     01  01034   1931    7.0    3.0    F  01034   \n4        2022     1     1     01  01093   1931    3.0    5.0    F  01093   \n...       ...   ...   ...    ...    ...    ...    ...    ...  ...    ...   \n1087363  2023     8    28    974  97416   1938    9.0   11.0    F  97416   \n1087364  2023     8    28    974  97416   1959    7.0   21.0    M  97420   \n1087365  2023     8    28    974  97422   1936    5.0   12.0    F  97412   \n1087366  2023     8    28    976  97608   1951   12.0   31.0    F  97608   \n1087367  2023     8    28    976  97611   1955    3.0   15.0    F  97611   \n\n        LIEUDEC2  \n0         HopCli  \n1         HopCli  \n2         HosMar  \n3         HopCli  \n4          Logem  \n...          ...  \n1087363       nd  \n1087364       nd  \n1087365       nd  \n1087366       nd  \n1087367       nd  \n\n[1087368 rows x 11 columns]",
      "text/html": "<div>\n<style scoped>\n    .dataframe tbody tr th:only-of-type {\n        vertical-align: middle;\n    }\n\n    .dataframe tbody tr th {\n        vertical-align: top;\n    }\n\n    .dataframe thead th {\n        text-align: right;\n    }\n</style>\n<table border=\"1\" class=\"dataframe\">\n  <thead>\n    <tr style=\"text-align: right;\">\n      <th></th>\n      <th>ADEC</th>\n      <th>MDEC</th>\n      <th>JDEC</th>\n      <th>DEPDEC</th>\n      <th>COMDEC</th>\n      <th>ANAIS</th>\n      <th>MNAIS</th>\n      <th>JNAIS</th>\n      <th>SEXE</th>\n      <th>COMDOM</th>\n      <th>LIEUDEC2</th>\n    </tr>\n  </thead>\n  <tbody>\n    <tr>\n      <th>0</th>\n      <td>2022</td>\n      <td>1</td>\n      <td>1</td>\n      <td>01</td>\n      <td>01004</td>\n      <td>1927</td>\n      <td>10.0</td>\n      <td>29.0</td>\n      <td>F</td>\n      <td>01384</td>\n      <td>HopCli</td>\n    </tr>\n    <tr>\n      <th>1</th>\n      <td>2022</td>\n      <td>1</td>\n      <td>1</td>\n      <td>01</td>\n      <td>01004</td>\n      <td>1947</td>\n      <td>8.0</td>\n      <td>31.0</td>\n      <td>F</td>\n      <td>01041</td>\n      <td>HopCli</td>\n    </tr>\n    <tr>\n      <th>2</th>\n      <td>2022</td>\n      <td>1</td>\n      <td>1</td>\n      <td>01</td>\n      <td>01032</td>\n      <td>1929</td>\n      <td>1.0</td>\n      <td>5.0</td>\n      <td>F</td>\n      <td>01151</td>\n      <td>HosMar</td>\n    </tr>\n    <tr>\n      <th>3</th>\n      <td>2022</td>\n      <td>1</td>\n      <td>1</td>\n      <td>01</td>\n      <td>01034</td>\n      <td>1931</td>\n      <td>7.0</td>\n      <td>3.0</td>\n      <td>F</td>\n      <td>01034</td>\n      <td>HopCli</td>\n    </tr>\n    <tr>\n      <th>4</th>\n      <td>2022</td>\n      <td>1</td>\n      <td>1</td>\n      <td>01</td>\n      <td>01093</td>\n      <td>1931</td>\n      <td>3.0</td>\n      <td>5.0</td>\n      <td>F</td>\n      <td>01093</td>\n      <td>Logem</td>\n    </tr>\n    <tr>\n      <th>...</th>\n      <td>...</td>\n      <td>...</td>\n      <td>...</td>\n      <td>...</td>\n      <td>...</td>\n      <td>...</td>\n      <td>...</td>\n      <td>...</td>\n      <td>...</td>\n      <td>...</td>\n      <td>...</td>\n    </tr>\n    <tr>\n      <th>1087363</th>\n      <td>2023</td>\n      <td>8</td>\n      <td>28</td>\n      <td>974</td>\n      <td>97416</td>\n      <td>1938</td>\n      <td>9.0</td>\n      <td>11.0</td>\n      <td>F</td>\n      <td>97416</td>\n      <td>nd</td>\n    </tr>\n    <tr>\n      <th>1087364</th>\n      <td>2023</td>\n      <td>8</td>\n      <td>28</td>\n      <td>974</td>\n      <td>97416</td>\n      <td>1959</td>\n      <td>7.0</td>\n      <td>21.0</td>\n      <td>M</td>\n      <td>97420</td>\n      <td>nd</td>\n    </tr>\n    <tr>\n      <th>1087365</th>\n      <td>2023</td>\n      <td>8</td>\n      <td>28</td>\n      <td>974</td>\n      <td>97422</td>\n      <td>1936</td>\n      <td>5.0</td>\n      <td>12.0</td>\n      <td>F</td>\n      <td>97412</td>\n      <td>nd</td>\n    </tr>\n    <tr>\n      <th>1087366</th>\n      <td>2023</td>\n      <td>8</td>\n      <td>28</td>\n      <td>976</td>\n      <td>97608</td>\n      <td>1951</td>\n      <td>12.0</td>\n      <td>31.0</td>\n      <td>F</td>\n      <td>97608</td>\n      <td>nd</td>\n    </tr>\n    <tr>\n      <th>1087367</th>\n      <td>2023</td>\n      <td>8</td>\n      <td>28</td>\n      <td>976</td>\n      <td>97611</td>\n      <td>1955</td>\n      <td>3.0</td>\n      <td>15.0</td>\n      <td>F</td>\n      <td>97611</td>\n      <td>nd</td>\n    </tr>\n  </tbody>\n</table>\n<p>1087368 rows × 11 columns</p>\n</div>"
     },
     "execution_count": 4,
     "metadata": {},
     "output_type": "execute_result"
    }
   ],
   "source": [
    "table_deces = pd.read_csv(r'C:\\Users\\Nicolas et Maëva\\Desktop\\Projets DataSpell\\DataBird\\Projet_final\\décès_2022-2023.csv',\n",
    "                          sep=';')\n",
    "table_deces"
   ],
   "metadata": {
    "collapsed": false,
    "ExecuteTime": {
     "end_time": "2023-09-27T12:10:17.741078500Z",
     "start_time": "2023-09-27T12:10:16.852079400Z"
    }
   },
   "id": "3650f7843532dd08"
  },
  {
   "cell_type": "markdown",
   "source": [
    "### Inspectons l'état des tables :"
   ],
   "metadata": {
    "collapsed": false
   },
   "id": "f9a00144cf3835ad"
  },
  {
   "cell_type": "code",
   "execution_count": 5,
   "outputs": [
    {
     "data": {
      "text/plain": "CODGEO         0\nLIBGEO         0\nDEP            0\nREG            0\nEPCI           0\nNATURE_EPCI    0\nARR            0\nCV             0\nZE2020         0\nUU2020         0\nTUU2017        0\nTDUU2017       0\nAAV2020        0\nTAAV2017       0\nTDAAV2017      0\nCATEAAV2020    0\nBV2022         0\ndtype: int64"
     },
     "execution_count": 5,
     "metadata": {},
     "output_type": "execute_result"
    }
   ],
   "source": [
    "table_insee.isnull().sum()"
   ],
   "metadata": {
    "collapsed": false,
    "ExecuteTime": {
     "end_time": "2023-09-27T12:10:17.757079500Z",
     "start_time": "2023-09-27T12:10:17.740078600Z"
    }
   },
   "id": "e55bce6055c3a073"
  },
  {
   "cell_type": "code",
   "execution_count": 6,
   "outputs": [
    {
     "data": {
      "text/plain": "ADEC           0\nMDEC           0\nJDEC           0\nDEPDEC         0\nCOMDEC         0\nANAIS          0\nMNAIS       5280\nJNAIS       5799\nSEXE           0\nCOMDOM         4\nLIEUDEC2       0\ndtype: int64"
     },
     "execution_count": 6,
     "metadata": {},
     "output_type": "execute_result"
    }
   ],
   "source": [
    "table_deces.isnull().sum()"
   ],
   "metadata": {
    "collapsed": false,
    "ExecuteTime": {
     "end_time": "2023-09-27T12:10:17.897078100Z",
     "start_time": "2023-09-27T12:10:17.756078600Z"
    }
   },
   "id": "a41769460753a77a"
  },
  {
   "cell_type": "markdown",
   "source": [
    "### Nous avons plusieurs actions à réaliser : \n",
    "- éliminer les colonnes inutiles à notre analyse\n",
    "- éliminer les valeurs manquantes dans la colonne COMDOM, qui représente la commune de domicile et est essentielle à notre analyse\n",
    "- ne garder que les décès de l'année 2022 (analyse réalisée en 2023, les données 2023 sont donc incomplètes)"
   ],
   "metadata": {
    "collapsed": false
   },
   "id": "518a8eb60c32b3bf"
  },
  {
   "cell_type": "code",
   "execution_count": 7,
   "outputs": [
    {
     "name": "stdout",
     "output_type": "stream",
     "text": [
      "<class 'pandas.core.frame.DataFrame'>\n",
      "RangeIndex: 34945 entries, 0 to 34944\n",
      "Data columns (total 4 columns):\n",
      " #   Column  Non-Null Count  Dtype \n",
      "---  ------  --------------  ----- \n",
      " 0   CODGEO  34945 non-null  object\n",
      " 1   LIBGEO  34945 non-null  object\n",
      " 2   DEP     34945 non-null  object\n",
      " 3   REG     34945 non-null  int64 \n",
      "dtypes: int64(1), object(3)\n",
      "memory usage: 1.1+ MB\n"
     ]
    }
   ],
   "source": [
    "table_insee.drop(columns=['EPCI', 'NATURE_EPCI', 'ARR', 'CV', 'ZE2020', 'UU2020', 'TUU2017', 'TDUU2017', 'AAV2020', 'TAAV2017',\n",
    "                          'TDAAV2017', 'CATEAAV2020', 'BV2022'], \n",
    "                 inplace=True)\n",
    "\n",
    "table_insee.info()"
   ],
   "metadata": {
    "collapsed": false,
    "ExecuteTime": {
     "end_time": "2023-09-27T12:10:17.943080300Z",
     "start_time": "2023-09-27T12:10:17.900079600Z"
    }
   },
   "id": "a37b2b996df0d544"
  },
  {
   "cell_type": "code",
   "execution_count": 8,
   "outputs": [
    {
     "data": {
      "text/plain": "ADEC           0\nMDEC           0\nJDEC           0\nDEPDEC         0\nCOMDEC         0\nANAIS          0\nMNAIS       5280\nJNAIS       5799\nSEXE           0\nCOMDOM         0\nLIEUDEC2       0\ndtype: int64"
     },
     "execution_count": 8,
     "metadata": {},
     "output_type": "execute_result"
    }
   ],
   "source": [
    "table_deces.dropna(subset='COMDOM', \n",
    "                   inplace=True)\n",
    "\n",
    "table_deces.isna().sum()"
   ],
   "metadata": {
    "collapsed": false,
    "ExecuteTime": {
     "end_time": "2023-09-27T12:10:18.210079300Z",
     "start_time": "2023-09-27T12:10:17.929079200Z"
    }
   },
   "id": "9dd40c5fd19be831"
  },
  {
   "cell_type": "code",
   "execution_count": 9,
   "outputs": [
    {
     "data": {
      "text/plain": "        ADEC  MDEC  JDEC DEPDEC COMDEC  ANAIS  MNAIS  JNAIS SEXE COMDOM  \\\n0       2022     1     1     01  01004   1927   10.0   29.0    F  01384   \n1       2022     1     1     01  01004   1947    8.0   31.0    F  01041   \n2       2022     1     1     01  01032   1929    1.0    5.0    F  01151   \n3       2022     1     1     01  01034   1931    7.0    3.0    F  01034   \n4       2022     1     1     01  01093   1931    3.0    5.0    F  01093   \n...      ...   ...   ...    ...    ...    ...    ...    ...  ...    ...   \n675225  2022    12    31    974  97422   1930   11.0   18.0    F  97422   \n675226  2022    12    31    976  97610   1958    3.0    3.0    F  97610   \n675227  2022    12    31    976  97610   1971    NaN    NaN    F  97610   \n675228  2022    12    31    976  97613   1931   12.0   31.0    M  97613   \n675229  2022    12    31    976  97616   1952    1.0    2.0    M  97616   \n\n       LIEUDEC2  \n0        HopCli  \n1        HopCli  \n2        HosMar  \n3        HopCli  \n4         Logem  \n...         ...  \n675225       nd  \n675226       nd  \n675227       nd  \n675228       nd  \n675229       nd  \n\n[675228 rows x 11 columns]",
      "text/html": "<div>\n<style scoped>\n    .dataframe tbody tr th:only-of-type {\n        vertical-align: middle;\n    }\n\n    .dataframe tbody tr th {\n        vertical-align: top;\n    }\n\n    .dataframe thead th {\n        text-align: right;\n    }\n</style>\n<table border=\"1\" class=\"dataframe\">\n  <thead>\n    <tr style=\"text-align: right;\">\n      <th></th>\n      <th>ADEC</th>\n      <th>MDEC</th>\n      <th>JDEC</th>\n      <th>DEPDEC</th>\n      <th>COMDEC</th>\n      <th>ANAIS</th>\n      <th>MNAIS</th>\n      <th>JNAIS</th>\n      <th>SEXE</th>\n      <th>COMDOM</th>\n      <th>LIEUDEC2</th>\n    </tr>\n  </thead>\n  <tbody>\n    <tr>\n      <th>0</th>\n      <td>2022</td>\n      <td>1</td>\n      <td>1</td>\n      <td>01</td>\n      <td>01004</td>\n      <td>1927</td>\n      <td>10.0</td>\n      <td>29.0</td>\n      <td>F</td>\n      <td>01384</td>\n      <td>HopCli</td>\n    </tr>\n    <tr>\n      <th>1</th>\n      <td>2022</td>\n      <td>1</td>\n      <td>1</td>\n      <td>01</td>\n      <td>01004</td>\n      <td>1947</td>\n      <td>8.0</td>\n      <td>31.0</td>\n      <td>F</td>\n      <td>01041</td>\n      <td>HopCli</td>\n    </tr>\n    <tr>\n      <th>2</th>\n      <td>2022</td>\n      <td>1</td>\n      <td>1</td>\n      <td>01</td>\n      <td>01032</td>\n      <td>1929</td>\n      <td>1.0</td>\n      <td>5.0</td>\n      <td>F</td>\n      <td>01151</td>\n      <td>HosMar</td>\n    </tr>\n    <tr>\n      <th>3</th>\n      <td>2022</td>\n      <td>1</td>\n      <td>1</td>\n      <td>01</td>\n      <td>01034</td>\n      <td>1931</td>\n      <td>7.0</td>\n      <td>3.0</td>\n      <td>F</td>\n      <td>01034</td>\n      <td>HopCli</td>\n    </tr>\n    <tr>\n      <th>4</th>\n      <td>2022</td>\n      <td>1</td>\n      <td>1</td>\n      <td>01</td>\n      <td>01093</td>\n      <td>1931</td>\n      <td>3.0</td>\n      <td>5.0</td>\n      <td>F</td>\n      <td>01093</td>\n      <td>Logem</td>\n    </tr>\n    <tr>\n      <th>...</th>\n      <td>...</td>\n      <td>...</td>\n      <td>...</td>\n      <td>...</td>\n      <td>...</td>\n      <td>...</td>\n      <td>...</td>\n      <td>...</td>\n      <td>...</td>\n      <td>...</td>\n      <td>...</td>\n    </tr>\n    <tr>\n      <th>675225</th>\n      <td>2022</td>\n      <td>12</td>\n      <td>31</td>\n      <td>974</td>\n      <td>97422</td>\n      <td>1930</td>\n      <td>11.0</td>\n      <td>18.0</td>\n      <td>F</td>\n      <td>97422</td>\n      <td>nd</td>\n    </tr>\n    <tr>\n      <th>675226</th>\n      <td>2022</td>\n      <td>12</td>\n      <td>31</td>\n      <td>976</td>\n      <td>97610</td>\n      <td>1958</td>\n      <td>3.0</td>\n      <td>3.0</td>\n      <td>F</td>\n      <td>97610</td>\n      <td>nd</td>\n    </tr>\n    <tr>\n      <th>675227</th>\n      <td>2022</td>\n      <td>12</td>\n      <td>31</td>\n      <td>976</td>\n      <td>97610</td>\n      <td>1971</td>\n      <td>NaN</td>\n      <td>NaN</td>\n      <td>F</td>\n      <td>97610</td>\n      <td>nd</td>\n    </tr>\n    <tr>\n      <th>675228</th>\n      <td>2022</td>\n      <td>12</td>\n      <td>31</td>\n      <td>976</td>\n      <td>97613</td>\n      <td>1931</td>\n      <td>12.0</td>\n      <td>31.0</td>\n      <td>M</td>\n      <td>97613</td>\n      <td>nd</td>\n    </tr>\n    <tr>\n      <th>675229</th>\n      <td>2022</td>\n      <td>12</td>\n      <td>31</td>\n      <td>976</td>\n      <td>97616</td>\n      <td>1952</td>\n      <td>1.0</td>\n      <td>2.0</td>\n      <td>M</td>\n      <td>97616</td>\n      <td>nd</td>\n    </tr>\n  </tbody>\n</table>\n<p>675228 rows × 11 columns</p>\n</div>"
     },
     "execution_count": 9,
     "metadata": {},
     "output_type": "execute_result"
    }
   ],
   "source": [
    "table_deces_2022 = table_deces[table_deces['ADEC'] == 2022]\n",
    "\n",
    "table_deces_2022"
   ],
   "metadata": {
    "collapsed": false,
    "ExecuteTime": {
     "end_time": "2023-09-27T12:10:18.272078600Z",
     "start_time": "2023-09-27T12:10:18.212079500Z"
    }
   },
   "id": "342df108ae034ac3"
  },
  {
   "cell_type": "code",
   "execution_count": 10,
   "outputs": [
    {
     "name": "stdout",
     "output_type": "stream",
     "text": [
      "<class 'pandas.core.frame.DataFrame'>\n",
      "Index: 675228 entries, 0 to 675229\n",
      "Data columns (total 3 columns):\n",
      " #   Column  Non-Null Count   Dtype \n",
      "---  ------  --------------   ----- \n",
      " 0   ADEC    675228 non-null  int64 \n",
      " 1   DEPDEC  675228 non-null  object\n",
      " 2   COMDOM  675228 non-null  object\n",
      "dtypes: int64(1), object(2)\n",
      "memory usage: 20.6+ MB\n"
     ]
    }
   ],
   "source": [
    "table_deces_2022.drop(columns=['MDEC', 'JDEC', 'ANAIS', 'MNAIS', 'JNAIS', 'SEXE', 'LIEUDEC2', 'COMDEC'],\n",
    "                 inplace=True)\n",
    "\n",
    "table_deces_2022.info()"
   ],
   "metadata": {
    "collapsed": false,
    "ExecuteTime": {
     "end_time": "2023-09-27T12:10:18.357079Z",
     "start_time": "2023-09-27T12:10:18.274079200Z"
    }
   },
   "id": "db9a7d5363b7ea7e"
  },
  {
   "cell_type": "markdown",
   "source": [
    "## Table répertoriant les crématoriums et projets de crématorium et table du dernier recensement"
   ],
   "metadata": {
    "collapsed": false
   },
   "id": "fb51c3d7c1033b1c"
  },
  {
   "cell_type": "code",
   "execution_count": 11,
   "outputs": [
    {
     "data": {
      "text/plain": "     num         LOCALISATION code_INSEE          x         y  Annee  \\\n0      1                Blyes      01047  45.848175  5.248086   2019   \n1      1               Viriat      01451  46.224630  5.205909   2019   \n2      2               Holnon      02382  49.854750  3.204060   2019   \n3      2             Tergnier      02738  49.658066  3.319068   2019   \n4      3            Montluçon      03185  46.368637  2.574050   2019   \n..   ...                  ...        ...        ...       ...    ...   \n802   95  Saint-Ouen-l'Aumône      95572        NaN       NaN   2021   \n803  971        Morne-à-l'Eau      97116        NaN       NaN   2021   \n804  972       Fort-de-France      97209        NaN       NaN   2021   \n805  974          Saint-Denis      97411        NaN       NaN   2021   \n806  974         Saint-Pierre      97416        NaN       NaN   2021   \n\n       STATUT  CREMATIONS  \n0      Projet         NaN  \n1    Existant      1051.0  \n2    Existant       645.0  \n3    Existant       440.0  \n4    Existant       827.0  \n..        ...         ...  \n802  Existant         NaN  \n803  Existant         NaN  \n804  Existant         NaN  \n805  Existant         NaN  \n806  Existant         NaN  \n\n[807 rows x 8 columns]",
      "text/html": "<div>\n<style scoped>\n    .dataframe tbody tr th:only-of-type {\n        vertical-align: middle;\n    }\n\n    .dataframe tbody tr th {\n        vertical-align: top;\n    }\n\n    .dataframe thead th {\n        text-align: right;\n    }\n</style>\n<table border=\"1\" class=\"dataframe\">\n  <thead>\n    <tr style=\"text-align: right;\">\n      <th></th>\n      <th>num</th>\n      <th>LOCALISATION</th>\n      <th>code_INSEE</th>\n      <th>x</th>\n      <th>y</th>\n      <th>Annee</th>\n      <th>STATUT</th>\n      <th>CREMATIONS</th>\n    </tr>\n  </thead>\n  <tbody>\n    <tr>\n      <th>0</th>\n      <td>1</td>\n      <td>Blyes</td>\n      <td>01047</td>\n      <td>45.848175</td>\n      <td>5.248086</td>\n      <td>2019</td>\n      <td>Projet</td>\n      <td>NaN</td>\n    </tr>\n    <tr>\n      <th>1</th>\n      <td>1</td>\n      <td>Viriat</td>\n      <td>01451</td>\n      <td>46.224630</td>\n      <td>5.205909</td>\n      <td>2019</td>\n      <td>Existant</td>\n      <td>1051.0</td>\n    </tr>\n    <tr>\n      <th>2</th>\n      <td>2</td>\n      <td>Holnon</td>\n      <td>02382</td>\n      <td>49.854750</td>\n      <td>3.204060</td>\n      <td>2019</td>\n      <td>Existant</td>\n      <td>645.0</td>\n    </tr>\n    <tr>\n      <th>3</th>\n      <td>2</td>\n      <td>Tergnier</td>\n      <td>02738</td>\n      <td>49.658066</td>\n      <td>3.319068</td>\n      <td>2019</td>\n      <td>Existant</td>\n      <td>440.0</td>\n    </tr>\n    <tr>\n      <th>4</th>\n      <td>3</td>\n      <td>Montluçon</td>\n      <td>03185</td>\n      <td>46.368637</td>\n      <td>2.574050</td>\n      <td>2019</td>\n      <td>Existant</td>\n      <td>827.0</td>\n    </tr>\n    <tr>\n      <th>...</th>\n      <td>...</td>\n      <td>...</td>\n      <td>...</td>\n      <td>...</td>\n      <td>...</td>\n      <td>...</td>\n      <td>...</td>\n      <td>...</td>\n    </tr>\n    <tr>\n      <th>802</th>\n      <td>95</td>\n      <td>Saint-Ouen-l'Aumône</td>\n      <td>95572</td>\n      <td>NaN</td>\n      <td>NaN</td>\n      <td>2021</td>\n      <td>Existant</td>\n      <td>NaN</td>\n    </tr>\n    <tr>\n      <th>803</th>\n      <td>971</td>\n      <td>Morne-à-l'Eau</td>\n      <td>97116</td>\n      <td>NaN</td>\n      <td>NaN</td>\n      <td>2021</td>\n      <td>Existant</td>\n      <td>NaN</td>\n    </tr>\n    <tr>\n      <th>804</th>\n      <td>972</td>\n      <td>Fort-de-France</td>\n      <td>97209</td>\n      <td>NaN</td>\n      <td>NaN</td>\n      <td>2021</td>\n      <td>Existant</td>\n      <td>NaN</td>\n    </tr>\n    <tr>\n      <th>805</th>\n      <td>974</td>\n      <td>Saint-Denis</td>\n      <td>97411</td>\n      <td>NaN</td>\n      <td>NaN</td>\n      <td>2021</td>\n      <td>Existant</td>\n      <td>NaN</td>\n    </tr>\n    <tr>\n      <th>806</th>\n      <td>974</td>\n      <td>Saint-Pierre</td>\n      <td>97416</td>\n      <td>NaN</td>\n      <td>NaN</td>\n      <td>2021</td>\n      <td>Existant</td>\n      <td>NaN</td>\n    </tr>\n  </tbody>\n</table>\n<p>807 rows × 8 columns</p>\n</div>"
     },
     "execution_count": 11,
     "metadata": {},
     "output_type": "execute_result"
    }
   ],
   "source": [
    "table_infrastructures = pd.read_csv(r'C:\\Users\\Nicolas et Maëva\\Desktop\\Projets DataSpell\\DataBird\\Projet_final\\Infrastructures_v2_202309251942.csv')\n",
    "table_infrastructures"
   ],
   "metadata": {
    "collapsed": false,
    "ExecuteTime": {
     "end_time": "2023-09-27T12:10:18.376081900Z",
     "start_time": "2023-09-27T12:10:18.336078900Z"
    }
   },
   "id": "da66267e321e2e8c"
  },
  {
   "cell_type": "code",
   "execution_count": 12,
   "outputs": [
    {
     "data": {
      "text/plain": "      CODGEO  REG  DEP                    LIBGEO  PMUN20  PMUN19  PMUN18  \\\n0      01001   84   01  L' Abergement-Clémenciat     806     779     771   \n1      01002   84   01    L' Abergement-de-Varey     262     256     253   \n2      01004   84   01         Ambérieu-en-Bugey   14288   14134   14204   \n3      01005   84   01       Ambérieux-en-Dombes    1782    1751    1720   \n4      01006   84   01                   Ambléon     113     112     112   \n...      ...  ...  ...                       ...     ...     ...     ...   \n34952  97420    4  974            Sainte-Suzanne   24086   24065   23718   \n34953  97421    4  974                   Salazie    7310    7136    7224   \n34954  97422    4  974                 Le Tampon   80778   79824   79385   \n34955  97423    4  974         Les Trois-Bassins    6953    7015    7076   \n34956  97424    4  974                    Cilaos    5568    5538    5492   \n\n       PMUN17  PMUN16  PMUN15  ...  PTOT1926  PTOT1921  PTOT1911  PTOT1906  \\\n0         776     767     767  ...     543.0     566.0     560.0     629.0   \n1         248     243     241  ...     253.0     256.0     291.0     323.0   \n2       14035   14081   14127  ...    5705.0    4796.0    4334.0    4100.0   \n3        1689    1671    1619  ...     690.0     698.0     805.0     805.0   \n4         111     110     109  ...     161.0     150.0     159.0     193.0   \n...       ...     ...     ...  ...       ...       ...       ...       ...   \n34952   23505   23224   23068  ...       NaN       NaN       NaN       NaN   \n34953    7312    7400    7384  ...       NaN       NaN       NaN       NaN   \n34954   78629   77283   76310  ...       NaN       NaN       NaN       NaN   \n34955    7139    7111    7127  ...       NaN       NaN       NaN       NaN   \n34956    5456    5403    5350  ...       NaN       NaN       NaN       NaN   \n\n       PTOT1901  PTOT1896  PTOT1891  PTOT1886  PTOT1881  PTOT1876  \n0         637.0     572.0     594.0     622.0     605.0     604.0  \n1         357.0     391.0     421.0     486.0     490.0     484.0  \n2        4023.0    3548.0    3635.0    3618.0    3396.0    3427.0  \n3         835.0     852.0     862.0     882.0     879.0     848.0  \n4         200.0     206.0     200.0     200.0     213.0     191.0  \n...         ...       ...       ...       ...       ...       ...  \n34952       NaN       NaN       NaN       NaN       NaN       NaN  \n34953       NaN       NaN       NaN       NaN       NaN       NaN  \n34954       NaN       NaN       NaN       NaN       NaN       NaN  \n34955       NaN       NaN       NaN       NaN       NaN       NaN  \n34956       NaN       NaN       NaN       NaN       NaN       NaN  \n\n[34957 rows x 38 columns]",
      "text/html": "<div>\n<style scoped>\n    .dataframe tbody tr th:only-of-type {\n        vertical-align: middle;\n    }\n\n    .dataframe tbody tr th {\n        vertical-align: top;\n    }\n\n    .dataframe thead th {\n        text-align: right;\n    }\n</style>\n<table border=\"1\" class=\"dataframe\">\n  <thead>\n    <tr style=\"text-align: right;\">\n      <th></th>\n      <th>CODGEO</th>\n      <th>REG</th>\n      <th>DEP</th>\n      <th>LIBGEO</th>\n      <th>PMUN20</th>\n      <th>PMUN19</th>\n      <th>PMUN18</th>\n      <th>PMUN17</th>\n      <th>PMUN16</th>\n      <th>PMUN15</th>\n      <th>...</th>\n      <th>PTOT1926</th>\n      <th>PTOT1921</th>\n      <th>PTOT1911</th>\n      <th>PTOT1906</th>\n      <th>PTOT1901</th>\n      <th>PTOT1896</th>\n      <th>PTOT1891</th>\n      <th>PTOT1886</th>\n      <th>PTOT1881</th>\n      <th>PTOT1876</th>\n    </tr>\n  </thead>\n  <tbody>\n    <tr>\n      <th>0</th>\n      <td>01001</td>\n      <td>84</td>\n      <td>01</td>\n      <td>L' Abergement-Clémenciat</td>\n      <td>806</td>\n      <td>779</td>\n      <td>771</td>\n      <td>776</td>\n      <td>767</td>\n      <td>767</td>\n      <td>...</td>\n      <td>543.0</td>\n      <td>566.0</td>\n      <td>560.0</td>\n      <td>629.0</td>\n      <td>637.0</td>\n      <td>572.0</td>\n      <td>594.0</td>\n      <td>622.0</td>\n      <td>605.0</td>\n      <td>604.0</td>\n    </tr>\n    <tr>\n      <th>1</th>\n      <td>01002</td>\n      <td>84</td>\n      <td>01</td>\n      <td>L' Abergement-de-Varey</td>\n      <td>262</td>\n      <td>256</td>\n      <td>253</td>\n      <td>248</td>\n      <td>243</td>\n      <td>241</td>\n      <td>...</td>\n      <td>253.0</td>\n      <td>256.0</td>\n      <td>291.0</td>\n      <td>323.0</td>\n      <td>357.0</td>\n      <td>391.0</td>\n      <td>421.0</td>\n      <td>486.0</td>\n      <td>490.0</td>\n      <td>484.0</td>\n    </tr>\n    <tr>\n      <th>2</th>\n      <td>01004</td>\n      <td>84</td>\n      <td>01</td>\n      <td>Ambérieu-en-Bugey</td>\n      <td>14288</td>\n      <td>14134</td>\n      <td>14204</td>\n      <td>14035</td>\n      <td>14081</td>\n      <td>14127</td>\n      <td>...</td>\n      <td>5705.0</td>\n      <td>4796.0</td>\n      <td>4334.0</td>\n      <td>4100.0</td>\n      <td>4023.0</td>\n      <td>3548.0</td>\n      <td>3635.0</td>\n      <td>3618.0</td>\n      <td>3396.0</td>\n      <td>3427.0</td>\n    </tr>\n    <tr>\n      <th>3</th>\n      <td>01005</td>\n      <td>84</td>\n      <td>01</td>\n      <td>Ambérieux-en-Dombes</td>\n      <td>1782</td>\n      <td>1751</td>\n      <td>1720</td>\n      <td>1689</td>\n      <td>1671</td>\n      <td>1619</td>\n      <td>...</td>\n      <td>690.0</td>\n      <td>698.0</td>\n      <td>805.0</td>\n      <td>805.0</td>\n      <td>835.0</td>\n      <td>852.0</td>\n      <td>862.0</td>\n      <td>882.0</td>\n      <td>879.0</td>\n      <td>848.0</td>\n    </tr>\n    <tr>\n      <th>4</th>\n      <td>01006</td>\n      <td>84</td>\n      <td>01</td>\n      <td>Ambléon</td>\n      <td>113</td>\n      <td>112</td>\n      <td>112</td>\n      <td>111</td>\n      <td>110</td>\n      <td>109</td>\n      <td>...</td>\n      <td>161.0</td>\n      <td>150.0</td>\n      <td>159.0</td>\n      <td>193.0</td>\n      <td>200.0</td>\n      <td>206.0</td>\n      <td>200.0</td>\n      <td>200.0</td>\n      <td>213.0</td>\n      <td>191.0</td>\n    </tr>\n    <tr>\n      <th>...</th>\n      <td>...</td>\n      <td>...</td>\n      <td>...</td>\n      <td>...</td>\n      <td>...</td>\n      <td>...</td>\n      <td>...</td>\n      <td>...</td>\n      <td>...</td>\n      <td>...</td>\n      <td>...</td>\n      <td>...</td>\n      <td>...</td>\n      <td>...</td>\n      <td>...</td>\n      <td>...</td>\n      <td>...</td>\n      <td>...</td>\n      <td>...</td>\n      <td>...</td>\n      <td>...</td>\n    </tr>\n    <tr>\n      <th>34952</th>\n      <td>97420</td>\n      <td>4</td>\n      <td>974</td>\n      <td>Sainte-Suzanne</td>\n      <td>24086</td>\n      <td>24065</td>\n      <td>23718</td>\n      <td>23505</td>\n      <td>23224</td>\n      <td>23068</td>\n      <td>...</td>\n      <td>NaN</td>\n      <td>NaN</td>\n      <td>NaN</td>\n      <td>NaN</td>\n      <td>NaN</td>\n      <td>NaN</td>\n      <td>NaN</td>\n      <td>NaN</td>\n      <td>NaN</td>\n      <td>NaN</td>\n    </tr>\n    <tr>\n      <th>34953</th>\n      <td>97421</td>\n      <td>4</td>\n      <td>974</td>\n      <td>Salazie</td>\n      <td>7310</td>\n      <td>7136</td>\n      <td>7224</td>\n      <td>7312</td>\n      <td>7400</td>\n      <td>7384</td>\n      <td>...</td>\n      <td>NaN</td>\n      <td>NaN</td>\n      <td>NaN</td>\n      <td>NaN</td>\n      <td>NaN</td>\n      <td>NaN</td>\n      <td>NaN</td>\n      <td>NaN</td>\n      <td>NaN</td>\n      <td>NaN</td>\n    </tr>\n    <tr>\n      <th>34954</th>\n      <td>97422</td>\n      <td>4</td>\n      <td>974</td>\n      <td>Le Tampon</td>\n      <td>80778</td>\n      <td>79824</td>\n      <td>79385</td>\n      <td>78629</td>\n      <td>77283</td>\n      <td>76310</td>\n      <td>...</td>\n      <td>NaN</td>\n      <td>NaN</td>\n      <td>NaN</td>\n      <td>NaN</td>\n      <td>NaN</td>\n      <td>NaN</td>\n      <td>NaN</td>\n      <td>NaN</td>\n      <td>NaN</td>\n      <td>NaN</td>\n    </tr>\n    <tr>\n      <th>34955</th>\n      <td>97423</td>\n      <td>4</td>\n      <td>974</td>\n      <td>Les Trois-Bassins</td>\n      <td>6953</td>\n      <td>7015</td>\n      <td>7076</td>\n      <td>7139</td>\n      <td>7111</td>\n      <td>7127</td>\n      <td>...</td>\n      <td>NaN</td>\n      <td>NaN</td>\n      <td>NaN</td>\n      <td>NaN</td>\n      <td>NaN</td>\n      <td>NaN</td>\n      <td>NaN</td>\n      <td>NaN</td>\n      <td>NaN</td>\n      <td>NaN</td>\n    </tr>\n    <tr>\n      <th>34956</th>\n      <td>97424</td>\n      <td>4</td>\n      <td>974</td>\n      <td>Cilaos</td>\n      <td>5568</td>\n      <td>5538</td>\n      <td>5492</td>\n      <td>5456</td>\n      <td>5403</td>\n      <td>5350</td>\n      <td>...</td>\n      <td>NaN</td>\n      <td>NaN</td>\n      <td>NaN</td>\n      <td>NaN</td>\n      <td>NaN</td>\n      <td>NaN</td>\n      <td>NaN</td>\n      <td>NaN</td>\n      <td>NaN</td>\n      <td>NaN</td>\n    </tr>\n  </tbody>\n</table>\n<p>34957 rows × 38 columns</p>\n</div>"
     },
     "execution_count": 12,
     "metadata": {},
     "output_type": "execute_result"
    }
   ],
   "source": [
    "table_recensement = pd.read_csv(r'C:\\Users\\Nicolas et Maëva\\Desktop\\Projets DataSpell\\DataBird\\Projet_final\\base-pop-historiques-1876-2020.csv', header=5)\n",
    "table_recensement"
   ],
   "metadata": {
    "collapsed": false,
    "ExecuteTime": {
     "end_time": "2023-09-27T12:10:18.538079200Z",
     "start_time": "2023-09-27T12:10:18.366082100Z"
    }
   },
   "id": "2de5e0de6e3aded3"
  },
  {
   "cell_type": "markdown",
   "source": [
    "### Commençons par la table_recensement, qui sera la plus simple à traiter:\n",
    "- Ne garder que les colonnes CODGEO, et PMUN20, REG, DEP et LIBGEO étant déjà présents dans notre table de référence géographique"
   ],
   "metadata": {
    "collapsed": false
   },
   "id": "3a8546a519cdd066"
  },
  {
   "cell_type": "code",
   "execution_count": 13,
   "outputs": [
    {
     "name": "stdout",
     "output_type": "stream",
     "text": [
      "<class 'pandas.core.frame.DataFrame'>\n",
      "RangeIndex: 34957 entries, 0 to 34956\n",
      "Data columns (total 2 columns):\n",
      " #   Column  Non-Null Count  Dtype \n",
      "---  ------  --------------  ----- \n",
      " 0   CODGEO  34957 non-null  object\n",
      " 1   PMUN20  34957 non-null  int64 \n",
      "dtypes: int64(1), object(1)\n",
      "memory usage: 546.3+ KB\n"
     ]
    }
   ],
   "source": [
    "table_recensement.drop(columns=['REG', 'DEP', 'LIBGEO', 'PMUN06', 'PMUN07', 'PMUN08', 'PMUN09', 'PMUN10', 'PMUN11', 'PMUN12',\n",
    "                                'PMUN13', 'PMUN14', 'PMUN15', 'PMUN16', 'PMUN17', 'PMUN18', 'PMUN19', 'PSDC62', 'PSDC68',\n",
    "                                'PSDC75', 'PSDC82', 'PSDC90', 'PSDC99', 'PTOT36', 'PTOT54', 'PTOT1876', 'PTOT1881',\n",
    "                                'PTOT1886', 'PTOT1891', 'PTOT1896', 'PTOT1901', 'PTOT1906', 'PTOT1911', 'PTOT1921', 'PTOT1926',\n",
    "                                'PTOT1931'],\n",
    "                       inplace=True)\n",
    "table_recensement.info()"
   ],
   "metadata": {
    "collapsed": false,
    "ExecuteTime": {
     "end_time": "2023-09-27T12:10:18.554079600Z",
     "start_time": "2023-09-27T12:10:18.540078200Z"
    }
   },
   "id": "18014b0d15ebb05e"
  },
  {
   "cell_type": "markdown",
   "source": [
    "### Pour la table_infrastructures, nous ne garderons que les colonnes code_INSEE (que nous renommerons CODGEO pour correspondre à la nomenclature INSEE), et STATUT. Nous filtrerons également sur l'année 2021 (données les plus récentes)"
   ],
   "metadata": {
    "collapsed": false
   },
   "id": "3c9dbe6e0435a35c"
  },
  {
   "cell_type": "code",
   "execution_count": 14,
   "outputs": [
    {
     "name": "stdout",
     "output_type": "stream",
     "text": [
      "<class 'pandas.core.frame.DataFrame'>\n",
      "Index: 269 entries, 538 to 806\n",
      "Data columns (total 3 columns):\n",
      " #   Column  Non-Null Count  Dtype \n",
      "---  ------  --------------  ----- \n",
      " 0   CODGEO  269 non-null    object\n",
      " 1   Annee   269 non-null    int64 \n",
      " 2   STATUT  269 non-null    object\n",
      "dtypes: int64(1), object(2)\n",
      "memory usage: 8.4+ KB\n"
     ]
    }
   ],
   "source": [
    "table_infrastructures = table_infrastructures[table_infrastructures['Annee'] == 2021]\n",
    "table_infrastructures.drop(columns=['num', 'LOCALISATION', 'x', 'y', 'CREMATIONS',],\n",
    "                           inplace=True)\n",
    "table_infrastructures.rename(columns={'code_INSEE' : 'CODGEO'},\n",
    "                             inplace=True)\n",
    "table_infrastructures.info()"
   ],
   "metadata": {
    "collapsed": false,
    "ExecuteTime": {
     "end_time": "2023-09-27T12:10:18.592077100Z",
     "start_time": "2023-09-27T12:10:18.558079Z"
    }
   },
   "id": "236e54ae9bc83e71"
  },
  {
   "cell_type": "markdown",
   "source": [
    "## Maintenant, extrayons ces tables et menons notre analyse sur PowerBI :"
   ],
   "metadata": {
    "collapsed": false
   },
   "id": "aa0b213aeed9a162"
  },
  {
   "cell_type": "code",
   "execution_count": 15,
   "outputs": [],
   "source": [
    "table_deces_2022.to_csv(r'table_deces_2022.csv')\n",
    "table_insee.to_csv(r'table_insee.csv')\n",
    "table_infrastructures.to_csv(r'table_infrastructures.csv')\n",
    "table_recensement.to_csv(r'table_recensement.csv')"
   ],
   "metadata": {
    "collapsed": false,
    "ExecuteTime": {
     "end_time": "2023-09-27T12:10:19.775077500Z",
     "start_time": "2023-09-27T12:10:18.571078900Z"
    }
   },
   "id": "b2c77a164dacbf70"
  }
 ],
 "metadata": {
  "kernelspec": {
   "display_name": "Python 3",
   "language": "python",
   "name": "python3"
  },
  "language_info": {
   "codemirror_mode": {
    "name": "ipython",
    "version": 2
   },
   "file_extension": ".py",
   "mimetype": "text/x-python",
   "name": "python",
   "nbconvert_exporter": "python",
   "pygments_lexer": "ipython2",
   "version": "2.7.6"
  }
 },
 "nbformat": 4,
 "nbformat_minor": 5
}
